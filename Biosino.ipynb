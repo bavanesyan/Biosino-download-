{
 "cells": [
  {
   "cell_type": "code",
   "execution_count": 2,
   "id": "61fd6e90",
   "metadata": {
    "ExecuteTime": {
     "end_time": "2022-03-26T08:08:09.118214Z",
     "start_time": "2022-03-26T08:08:08.747808Z"
    }
   },
   "outputs": [],
   "source": [
    "import pandas as pd\n",
    "import os\n",
    "import shutil\n",
    "from tqdm.notebook import tqdm"
   ]
  },
  {
   "cell_type": "code",
   "execution_count": 11,
   "id": "9934c166",
   "metadata": {
    "ExecuteTime": {
     "end_time": "2022-03-26T08:10:42.248058Z",
     "start_time": "2022-03-26T08:10:42.238828Z"
    }
   },
   "outputs": [],
   "source": [
    "import ftplib\n",
    "import ssl\n",
    "\n",
    "\n",
    "class ImplicitFTP_TLS(ftplib.FTP_TLS):\n",
    "    \"\"\"FTP_TLS subclass that automatically wraps sockets in SSL to support implicit FTPS.\"\"\"\n",
    "\n",
    "    def __init__(self, *args, **kwargs):\n",
    "        super().__init__(*args, **kwargs)\n",
    "        self._sock = None\n",
    "\n",
    "    @property\n",
    "    def sock(self):\n",
    "        \"\"\"Return the socket.\"\"\"\n",
    "        return self._sock\n",
    "\n",
    "    @sock.setter\n",
    "    def sock(self, value):\n",
    "        \"\"\"When modifying the socket, ensure that it is ssl wrapped.\"\"\"\n",
    "        if value is not None and not isinstance(value, ssl.SSLSocket):\n",
    "            value = self.context.wrap_socket(value)\n",
    "        self._sock = value"
   ]
  },
  {
   "cell_type": "code",
   "execution_count": 38,
   "id": "adacfd47",
   "metadata": {
    "ExecuteTime": {
     "end_time": "2022-03-26T11:25:42.193443Z",
     "start_time": "2022-03-26T11:25:42.178215Z"
    }
   },
   "outputs": [],
   "source": [
    "def download_biosino(data_links_df, output_dir:str = './'):\n",
    "    \"\"\"\n",
    "    param:data_links_df - pd.DataFrame - should be downloaded from biosino database via Export Data Links\n",
    "    \"\"\"\n",
    "    import pandas as pd\n",
    "    from tqdm.notebook import tqdm\n",
    "    import os\n",
    "    \n",
    "    if (isinstance(data_links_df, pd.DataFrame)) & (isinstance(output_dir, str)):\n",
    "    #     Connect to fms.biosino.org with FTP over TLS protocol\n",
    "        try:\n",
    "            ftp_client = ImplicitFTP_TLS()\n",
    "            ftp_client.connect(host='fms.biosino.org', port=2122)\n",
    "            ftp_client.login(user='avanesyanbogdan@gmail.com', passwd='x$3L!ma$wFfn2m')\n",
    "            ftp_client.prot_p()\n",
    "            print('Connected to fms.biosino.org')\n",
    "        except:\n",
    "            print('An error occured while connecting to fms.biosino.org')\n",
    "    #     Obtain run IDs\n",
    "        run_ids = data_links_df.groupby('run_id').agg({'fileName': list}).to_dict()['fileName']\n",
    "        id_list = tuple(run_ids.keys())\n",
    "    #     Download files in output directory\n",
    "        for run_id in tqdm(id_list, desc = 'Downloading data'):\n",
    "            local_dir = os.path.join(output_dir, run_id)\n",
    "            if os.path.isdir(local_dir):\n",
    "                pass\n",
    "            else:\n",
    "                os.makedirs(local_dir)\n",
    "            for file in run_ids[run_id]:\n",
    "                local_file = os.path.join(local_dir, file)\n",
    "                if os.path.isfile(local_file):\n",
    "                    continue\n",
    "                else:\n",
    "                    path_on_server = f'/Public/byrun/{run_id[0:5]}/{run_id[0:7]}/{run_id}/{file}'\n",
    "                    with open(local_file, 'wb') as local_file:\n",
    "                        try:\n",
    "                            print(f'Downloading {run_id}:{file}')\n",
    "                            ftp_client.retrbinary(f'RETR {path_on_server}' , local_file.write)\n",
    "                            print(f'{run_id}:{file} successfully downloaded')\n",
    "                        except Exception as e:\n",
    "                            if e == 'KeyboardInterrupt':\n",
    "                                break\n",
    "                            else:\n",
    "                                print(f'An error occured while downloading {path_on_server}, trying next file')\n",
    "                                print(e)\n",
    "                                continue\n",
    "    else:\n",
    "        print(f'{data_links_df} should be a pandas DataFrame')"
   ]
  }
 ],
 "metadata": {
  "kernelspec": {
   "display_name": "bior_38",
   "language": "python",
   "name": "bior_38"
  },
  "language_info": {
   "codemirror_mode": {
    "name": "ipython",
    "version": 3
   },
   "file_extension": ".py",
   "mimetype": "text/x-python",
   "name": "python",
   "nbconvert_exporter": "python",
   "pygments_lexer": "ipython3",
   "version": "3.8.11"
  },
  "toc": {
   "base_numbering": 1,
   "nav_menu": {},
   "number_sections": true,
   "sideBar": true,
   "skip_h1_title": false,
   "title_cell": "Table of Contents",
   "title_sidebar": "Contents",
   "toc_cell": false,
   "toc_position": {},
   "toc_section_display": true,
   "toc_window_display": false
  },
  "varInspector": {
   "cols": {
    "lenName": 16,
    "lenType": 16,
    "lenVar": 40
   },
   "kernels_config": {
    "python": {
     "delete_cmd_postfix": "",
     "delete_cmd_prefix": "del ",
     "library": "var_list.py",
     "varRefreshCmd": "print(var_dic_list())"
    },
    "r": {
     "delete_cmd_postfix": ") ",
     "delete_cmd_prefix": "rm(",
     "library": "var_list.r",
     "varRefreshCmd": "cat(var_dic_list()) "
    }
   },
   "types_to_exclude": [
    "module",
    "function",
    "builtin_function_or_method",
    "instance",
    "_Feature"
   ],
   "window_display": false
  }
 },
 "nbformat": 4,
 "nbformat_minor": 5
}
